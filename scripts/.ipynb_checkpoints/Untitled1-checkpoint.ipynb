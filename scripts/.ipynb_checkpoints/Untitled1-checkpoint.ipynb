{
 "cells": [
  {
   "cell_type": "code",
   "execution_count": 1,
   "id": "a2b1894a-a9cf-42d9-99ee-8ee32a318dd0",
   "metadata": {},
   "outputs": [],
   "source": [
    "import os\n",
    "os.sys.path.append(os.path.dirname(os.path.abspath('.')))"
   ]
  },
  {
   "cell_type": "code",
   "execution_count": 2,
   "id": "c452a64b-1e0e-41c6-8d49-9f5149254115",
   "metadata": {},
   "outputs": [],
   "source": [
    "from karma_sim.allocator import Allocator"
   ]
  },
  {
   "cell_type": "code",
   "execution_count": 3,
   "id": "cd0216c3-a0e0-4fff-906c-2fb71246c641",
   "metadata": {},
   "outputs": [],
   "source": [
    "demands = {'A': [4, 4, 0, 2, 2], 'B': [2, 0, 6 ,2 ,2], 'C': [1, 0, 0, 5, 6]}"
   ]
  },
  {
   "cell_type": "code",
   "execution_count": 4,
   "id": "8d5374ba-d539-4321-bb3c-d2b09326489a",
   "metadata": {},
   "outputs": [
    {
     "data": {
      "text/plain": [
       "{'A': [3, 4, 0, 1, 1], 'B': [2, 0, 4, 1, 2], 'C': [1, 0, 0, 4, 3]}"
      ]
     },
     "execution_count": 4,
     "metadata": {},
     "output_type": "execute_result"
    }
   ],
   "source": [
    "alloc = Allocator(demands, total_blocks=6, public_blocks=3, redistribution_thresh=3, inflation=1, init_credits=99999999999)\n",
    "allocations = alloc.compute()\n",
    "allocations"
   ]
  },
  {
   "cell_type": "code",
   "execution_count": null,
   "id": "132b4256-8ec6-41c1-aedf-05a3a84ecde7",
   "metadata": {},
   "outputs": [],
   "source": []
  }
 ],
 "metadata": {
  "kernelspec": {
   "display_name": "Python 3 (ipykernel)",
   "language": "python",
   "name": "python3"
  },
  "language_info": {
   "codemirror_mode": {
    "name": "ipython",
    "version": 3
   },
   "file_extension": ".py",
   "mimetype": "text/x-python",
   "name": "python",
   "nbconvert_exporter": "python",
   "pygments_lexer": "ipython3",
   "version": "3.7.5"
  }
 },
 "nbformat": 4,
 "nbformat_minor": 5
}
