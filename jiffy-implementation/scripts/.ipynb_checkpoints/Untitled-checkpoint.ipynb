{
 "cells": [
  {
   "cell_type": "code",
   "execution_count": 1,
   "id": "7fb5326a-743f-414f-af7d-d77a5559f819",
   "metadata": {},
   "outputs": [],
   "source": [
    "import os\n",
    "os.sys.path.append(os.path.dirname(os.path.abspath('.')))"
   ]
  },
  {
   "cell_type": "code",
   "execution_count": 2,
   "id": "cb90eca8-5754-48df-81de-81d88403769f",
   "metadata": {},
   "outputs": [],
   "source": [
    "from karma_sim.allocator import Allocator"
   ]
  },
  {
   "cell_type": "code",
   "execution_count": 3,
   "id": "7567198d-a889-43f8-b4fc-ed84383f5e4d",
   "metadata": {},
   "outputs": [],
   "source": [
    "demands = {'A': [0, 4, 0, 0, 4, 4], 'B': [4, 4, 4, 0, 0, 0], 'C': [4, 0, 4, 4, 0, 0]}"
   ]
  },
  {
   "cell_type": "code",
   "execution_count": null,
   "id": "e048d906-c20f-454b-8b3d-b5e1b7b0bf0e",
   "metadata": {},
   "outputs": [],
   "source": []
  },
  {
   "cell_type": "code",
   "execution_count": 12,
   "id": "b69c7445-5087-425a-8846-934d2f3b8cf9",
   "metadata": {},
   "outputs": [],
   "source": [
    "def compute_fairness(num_rounds):\n",
    "    replicated_demands = {'A': [], 'B': [], 'C': []}\n",
    "    for i in range(num_rounds):\n",
    "        for t in replicated_demands:\n",
    "            replicated_demands[t] += demands[t]\n",
    "\n",
    "    alloc = Allocator(replicated_demands, total_blocks=6, public_blocks=3, redistribution_thresh=3, inflation=1, init_credits=99999999999)\n",
    "    allocations = alloc.compute()\n",
    "    total_allocations = {}\n",
    "    for t in allocations:\n",
    "        total_allocations[t] = sum(allocations[t])\n",
    "    return min(total_allocations.values())/max(total_allocations.values())"
   ]
  },
  {
   "cell_type": "code",
   "execution_count": 13,
   "id": "709afbfa-e165-48b9-984d-7220afa6d5af",
   "metadata": {},
   "outputs": [
    {
     "data": {
      "text/plain": [
       "0.8181818181818182"
      ]
     },
     "execution_count": 13,
     "metadata": {},
     "output_type": "execute_result"
    }
   ],
   "source": [
    "9/11"
   ]
  },
  {
   "cell_type": "code",
   "execution_count": 14,
   "id": "99a0af31-57cd-4939-abb8-757b4a455d06",
   "metadata": {},
   "outputs": [
    {
     "data": {
      "text/plain": [
       "'0.5833333333333334 0.9509803921568627 0.9950099800399201 0.999500099980004 0.99995000099998 0.99999500001'"
      ]
     },
     "execution_count": 14,
     "metadata": {},
     "output_type": "execute_result"
    }
   ],
   "source": [
    "res = []\n",
    "for i in range(6):\n",
    "    res.append(compute_fairness(10**i))\n",
    "\n",
    "'\\'.join([str(x) for x in res])"
   ]
  },
  {
   "cell_type": "code",
   "execution_count": null,
   "id": "dbe1d0c1-bf91-409a-b455-a6ed849a3961",
   "metadata": {},
   "outputs": [],
   "source": []
  },
  {
   "cell_type": "code",
   "execution_count": null,
   "id": "06165d7b-011b-40f5-bf4c-556daa74d2fa",
   "metadata": {},
   "outputs": [],
   "source": []
  }
 ],
 "metadata": {
  "kernelspec": {
   "display_name": "Python 3 (ipykernel)",
   "language": "python",
   "name": "python3"
  },
  "language_info": {
   "codemirror_mode": {
    "name": "ipython",
    "version": 3
   },
   "file_extension": ".py",
   "mimetype": "text/x-python",
   "name": "python",
   "nbconvert_exporter": "python",
   "pygments_lexer": "ipython3",
   "version": "3.7.5"
  }
 },
 "nbformat": 4,
 "nbformat_minor": 5
}
